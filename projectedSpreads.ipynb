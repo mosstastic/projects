{
 "cells": [
  {
   "cell_type": "code",
   "execution_count": 1,
   "metadata": {},
   "outputs": [
    {
     "name": "stdout",
     "output_type": "stream",
     "text": [
      "Getting a list of all teams.\n",
      "Done!\n",
      "Building two lists of urls to parse\n",
      "Done!\n",
      "Getting stats from teamrankings.com\n"
     ]
    }
   ],
   "source": [
    "%run scrapeStats.ipynb\n",
    "%run scrapeSpreads.ipynb\n",
    "%run scrapeFO.ipynb\n",
    "import statistics\n",
    "import numpy as np\n"
   ]
  },
  {
   "cell_type": "code",
   "execution_count": 2,
   "metadata": {},
   "outputs": [],
   "source": [
    "import matplotlib.pyplot as plt"
   ]
  },
  {
   "cell_type": "code",
   "execution_count": 3,
   "metadata": {},
   "outputs": [],
   "source": [
    "combined = pd.DataFrame(pd.merge(FO(), team_stats(), left_on=\"Long\",right_on=\"teamname\"))\n",
    "fullstats = combined.iloc[:,[0,1,2,3,5,6,7,8]]\n"
   ]
  },
  {
   "cell_type": "code",
   "execution_count": 4,
   "metadata": {},
   "outputs": [],
   "source": [
    "fullstats['yppAdj'] = (1+(fullstats['Offense DVOA']/100)) *  fullstats['yppcol']\n",
    "fullstats['oYPPAdj'] = (1+(fullstats['Defense DVOA']/100)) * fullstats['oYPPcol']"
   ]
  },
  {
   "cell_type": "code",
   "execution_count": 5,
   "metadata": {},
   "outputs": [],
   "source": [
    "homedf = pd.merge(fullstats, spreads(), left_on =\"Long\", right_on = \"homeTeam\")\n",
    "awaydf = pd.merge(fullstats, spreads(), left_on =\"Long\", right_on = \"awayTeam\")"
   ]
  },
  {
   "cell_type": "code",
   "execution_count": 6,
   "metadata": {},
   "outputs": [],
   "source": [
    "fulljoin = pd.merge(homedf, awaydf, left_on = \"homeTeam\", right_on = \"homeTeam\")"
   ]
  },
  {
   "cell_type": "code",
   "execution_count": 7,
   "metadata": {},
   "outputs": [],
   "source": [
    "fulljoin['choasRate_x'] = (fulljoin['qbsackedcol_y'] + fulljoin['sackpctcol_x']) / 2\n",
    "fulljoin['choasRate_y'] = (fulljoin['qbsackedcol_x'] + fulljoin['sackpctcol_y']) / 2\n",
    "fulljoin['choasRate_ratio'] = (fulljoin['choasRate_x'] / 10) - (fulljoin['choasRate_y'] / 10)\n",
    "fulljoin['yppavg'] = (fulljoin['yppAdj_x'] + fulljoin['oYPPAdj_y']) / 2\n",
    "fulljoin['oYPPavg'] = (fulljoin['oYPPAdj_x'] + fulljoin['yppAdj_y']) / 2\n",
    "fulljoin['netYPP'] = (fulljoin['yppavg'] - fulljoin['oYPPavg']) + fulljoin['choasRate_ratio']"
   ]
  },
  {
   "cell_type": "code",
   "execution_count": 8,
   "metadata": {},
   "outputs": [
    {
     "name": "stderr",
     "output_type": "stream",
     "text": [
      "C:\\Users\\forlo\\Anaconda3\\lib\\site-packages\\ipykernel_launcher.py:10: SettingWithCopyWarning: \n",
      "A value is trying to be set on a copy of a slice from a DataFrame.\n",
      "Try using .loc[row_indexer,col_indexer] = value instead\n",
      "\n",
      "See the caveats in the documentation: http://pandas.pydata.org/pandas-docs/stable/user_guide/indexing.html#returning-a-view-versus-a-copy\n",
      "  # Remove the CWD from sys.path while we load stuff.\n",
      "C:\\Users\\forlo\\Anaconda3\\lib\\site-packages\\ipykernel_launcher.py:11: SettingWithCopyWarning: \n",
      "A value is trying to be set on a copy of a slice from a DataFrame.\n",
      "Try using .loc[row_indexer,col_indexer] = value instead\n",
      "\n",
      "See the caveats in the documentation: http://pandas.pydata.org/pandas-docs/stable/user_guide/indexing.html#returning-a-view-versus-a-copy\n",
      "  # This is added back by InteractiveShellApp.init_path()\n"
     ]
    }
   ],
   "source": [
    "x = np.array([0, 0.5, 1, 1.5, 2, 3, 4, 5, 6])\n",
    "y = np.array([0, -0.65, -4.25, -5.5, -10.425, -15.075, -19.15, -24.18, -29.66])\n",
    "z = np.polyfit(x,y,1)\n",
    "predict = np.poly1d(z)\n",
    "\n",
    "fulljoin['proj_Homespread'] = predict(fulljoin['netYPP'])\n",
    "\n",
    "final = fulljoin[['Long_x','Long_y','homeSpread_x','proj_Homespread']]\n",
    "final.columns = ['home','away','homeSpread','projSpread']\n",
    "final['homeSpread'] = final['homeSpread'].astype(float)\n",
    "final['diff'] = abs(final['homeSpread'] - final['projSpread'])"
   ]
  },
  {
   "cell_type": "code",
   "execution_count": 9,
   "metadata": {},
   "outputs": [
    {
     "data": {
      "text/html": [
       "<div>\n",
       "<style scoped>\n",
       "    .dataframe tbody tr th:only-of-type {\n",
       "        vertical-align: middle;\n",
       "    }\n",
       "\n",
       "    .dataframe tbody tr th {\n",
       "        vertical-align: top;\n",
       "    }\n",
       "\n",
       "    .dataframe thead th {\n",
       "        text-align: right;\n",
       "    }\n",
       "</style>\n",
       "<table border=\"1\" class=\"dataframe\">\n",
       "  <thead>\n",
       "    <tr style=\"text-align: right;\">\n",
       "      <th></th>\n",
       "      <th>home</th>\n",
       "      <th>away</th>\n",
       "      <th>homeSpread</th>\n",
       "      <th>projSpread</th>\n",
       "      <th>diff</th>\n",
       "    </tr>\n",
       "  </thead>\n",
       "  <tbody>\n",
       "    <tr>\n",
       "      <td>3</td>\n",
       "      <td>Green Bay Packers</td>\n",
       "      <td>Atlanta Falcons</td>\n",
       "      <td>-16.5</td>\n",
       "      <td>-6.307731</td>\n",
       "      <td>10.192269</td>\n",
       "    </tr>\n",
       "    <tr>\n",
       "      <td>2</td>\n",
       "      <td>Baltimore Ravens</td>\n",
       "      <td>Cincinnati Bengals</td>\n",
       "      <td>-13.5</td>\n",
       "      <td>-4.817033</td>\n",
       "      <td>8.682967</td>\n",
       "    </tr>\n",
       "    <tr>\n",
       "      <td>7</td>\n",
       "      <td>Houston Texans</td>\n",
       "      <td>Jacksonville Jaguars</td>\n",
       "      <td>-6.0</td>\n",
       "      <td>1.113557</td>\n",
       "      <td>7.113557</td>\n",
       "    </tr>\n",
       "    <tr>\n",
       "      <td>6</td>\n",
       "      <td>Cleveland Browns</td>\n",
       "      <td>Indianapolis Colts</td>\n",
       "      <td>3.0</td>\n",
       "      <td>7.915897</td>\n",
       "      <td>4.915897</td>\n",
       "    </tr>\n",
       "    <tr>\n",
       "      <td>0</td>\n",
       "      <td>Pittsburgh Steelers</td>\n",
       "      <td>Philadelphia Eagles</td>\n",
       "      <td>-7.5</td>\n",
       "      <td>-12.170873</td>\n",
       "      <td>4.670873</td>\n",
       "    </tr>\n",
       "    <tr>\n",
       "      <td>1</td>\n",
       "      <td>Seattle Seahawks</td>\n",
       "      <td>Minnesota Vikings</td>\n",
       "      <td>-7.0</td>\n",
       "      <td>-3.694508</td>\n",
       "      <td>3.305492</td>\n",
       "    </tr>\n",
       "    <tr>\n",
       "      <td>8</td>\n",
       "      <td>New York Jets</td>\n",
       "      <td>Arizona Cardinals</td>\n",
       "      <td>7.0</td>\n",
       "      <td>9.406595</td>\n",
       "      <td>2.406595</td>\n",
       "    </tr>\n",
       "    <tr>\n",
       "      <td>5</td>\n",
       "      <td>Chicago Bears</td>\n",
       "      <td>Tampa Bay Buccaneers</td>\n",
       "      <td>6.0</td>\n",
       "      <td>7.960778</td>\n",
       "      <td>1.960778</td>\n",
       "    </tr>\n",
       "    <tr>\n",
       "      <td>4</td>\n",
       "      <td>Dallas Cowboys</td>\n",
       "      <td>New York Giants</td>\n",
       "      <td>-9.5</td>\n",
       "      <td>-8.519309</td>\n",
       "      <td>0.980691</td>\n",
       "    </tr>\n",
       "  </tbody>\n",
       "</table>\n",
       "</div>"
      ],
      "text/plain": [
       "                  home                  away  homeSpread  projSpread  \\\n",
       "3    Green Bay Packers       Atlanta Falcons       -16.5   -6.307731   \n",
       "2     Baltimore Ravens    Cincinnati Bengals       -13.5   -4.817033   \n",
       "7       Houston Texans  Jacksonville Jaguars        -6.0    1.113557   \n",
       "6     Cleveland Browns    Indianapolis Colts         3.0    7.915897   \n",
       "0  Pittsburgh Steelers   Philadelphia Eagles        -7.5  -12.170873   \n",
       "1     Seattle Seahawks     Minnesota Vikings        -7.0   -3.694508   \n",
       "8        New York Jets     Arizona Cardinals         7.0    9.406595   \n",
       "5        Chicago Bears  Tampa Bay Buccaneers         6.0    7.960778   \n",
       "4       Dallas Cowboys       New York Giants        -9.5   -8.519309   \n",
       "\n",
       "        diff  \n",
       "3  10.192269  \n",
       "2   8.682967  \n",
       "7   7.113557  \n",
       "6   4.915897  \n",
       "0   4.670873  \n",
       "1   3.305492  \n",
       "8   2.406595  \n",
       "5   1.960778  \n",
       "4   0.980691  "
      ]
     },
     "execution_count": 9,
     "metadata": {},
     "output_type": "execute_result"
    }
   ],
   "source": [
    "final.sort_values(by=['diff'], ascending=False)"
   ]
  },
  {
   "cell_type": "code",
   "execution_count": null,
   "metadata": {},
   "outputs": [],
   "source": []
  }
 ],
 "metadata": {
  "kernelspec": {
   "display_name": "Python 3",
   "language": "python",
   "name": "python3"
  },
  "language_info": {
   "codemirror_mode": {
    "name": "ipython",
    "version": 3
   },
   "file_extension": ".py",
   "mimetype": "text/x-python",
   "name": "python",
   "nbconvert_exporter": "python",
   "pygments_lexer": "ipython3",
   "version": "3.7.4"
  }
 },
 "nbformat": 4,
 "nbformat_minor": 2
}
