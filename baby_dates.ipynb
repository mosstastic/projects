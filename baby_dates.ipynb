{
 "cells": [
  {
   "cell_type": "code",
   "execution_count": 4,
   "metadata": {},
   "outputs": [
    {
     "ename": "SyntaxError",
     "evalue": "invalid token (<ipython-input-4-73e675e0bbb3>, line 1)",
     "output_type": "error",
     "traceback": [
      "\u001b[1;36m  File \u001b[1;32m\"<ipython-input-4-73e675e0bbb3>\"\u001b[1;36m, line \u001b[1;32m1\u001b[0m\n\u001b[1;33m    babys_due_date = 07/13/2019\u001b[0m\n\u001b[1;37m                      ^\u001b[0m\n\u001b[1;31mSyntaxError\u001b[0m\u001b[1;31m:\u001b[0m invalid token\n"
     ]
    }
   ],
   "source": []
  },
  {
   "cell_type": "code",
   "execution_count": 47,
   "metadata": {},
   "outputs": [
    {
     "name": "stdout",
     "output_type": "stream",
     "text": [
      "2019-12-17 11:46:36.996335\n",
      "2020-07-13 00:00:00\n",
      "2019-10-09 00:00:00\n"
     ]
    }
   ],
   "source": [
    "import datetime \n",
    "\n",
    "current_time = datetime.datetime.now()\n",
    "baby_due_date = datetime.datetime(2020, 7, 13)\n",
    "conceive_date = datetime.datetime(2019, 10, 9)\n",
    "\n",
    "print(current_time)\n",
    "print(baby_due_date)\n",
    "print(conceive_date)"
   ]
  },
  {
   "cell_type": "code",
   "execution_count": 61,
   "metadata": {},
   "outputs": [
    {
     "data": {
      "text/plain": [
       "\"You're 10 weeks pregnant. Hope you're felling well! Did you know that Your baby is about the size of a strawberry and can stretch his spine. His eyes and eyelids are more developed and her eyebrows are beginning to grow. Baby weighs .14 ounces and is 1.22 long\""
      ]
     },
     "execution_count": 61,
     "metadata": {},
     "output_type": "execute_result"
    }
   ],
   "source": [
    "(baby_due_date - current_time).days / 7\n",
    "(conceive_date - current_time).days / 7\n",
    "\n",
    "weeksPregnant = int((conceive_date - current_time).days / 7) * -1\n",
    "\n",
    "\n",
    "weeks = {\n",
    "        10: 'Your baby is about the size of a kumquat and can stretch his spine. His eyes and eyelids are more developed and her eyebrows are beginning to grow. Baby weighs .14 ounces and is 1.22 long',\n",
    "        11: 'Your baby is about the size of a fig. From now through week 20 of your pregnancy, he''ll increase 30-fold in weight and triple in length. Baby weighs .25 ounces and is 1.61 inches long.',\n",
    "        12: 'Your baby is almost three inches long now, about the size of a plum. Fingernails, toenails, and bones are forming, and a fine layer of hair covers most of her body. 2.13 inches long and weighs .49 ounces',\n",
    "        13: 'Your beautiful baby is the size of a Meyer lemon this week—and his vocal cords are beginning to develop.',\n",
    "        14: 'As you enter your second trimester, your baby is the size of a peach. All of her internal organs formed during the first trimester, and they will continue to mature from now until she''s born.',\n",
    "        15: 'Your baby is now the size of an apple. His brain now controls all the muscles in her body; he is able to move. Yes, he''ll even do somersaults! But if this is your first baby, you probably won''t feel him moving for several more weeks.',\n",
    "        16: 'Your baby is now the size of an avocado—and she can make a fist and even suck her thumb.',\n",
    "        17: 'Your baby is now the size of an pear. He has hiccupped before, but this is the first time you might feel it.',\n",
    "        18: 'Your baby is now about the size of a sweet potato—and her tiny fingers now have unique fingerprints!',\n",
    "        19: 'Your baby is now about the size of a mango. His legs are now longer than his arms, and he''ll start giving you \"hello\" jabs at regular intervals, which you may be able to feel if this is your second or third pregnancy. First-time moms still might not feel anything for a few more weeks.',\n",
    "        20: 'Your baby is now the size of a banana. She may have thin eyebrows and is sprouting some hair on her head.',\n",
    "        21: 'Your baby is as long as a carrot, and his skin now responds to touch. If you put pressure on your belly, he''ll move away or push back.',\n",
    "        22: 'Your baby is the size of a papaya. Her lungs are developing rapidly, and they will begin making a protein called surfactant, which will help her breathe independently once she''s born.',\n",
    "        23: 'Your baby is as big as an eggplant. His brain and hearing are more developed this week, and he''s beginning to recognize your voice.',\n",
    "        24: 'Your baby is as long as an ear of corn. Her nostrils are opening now for \"practice breathing\"; she''ll go through the same motions of real breathing but inhale amniotic fluid instead of air.',\n",
    "        25: 'Your baby is the size of an acorn squash. He''s developing a firm grasp and may reach out and grab the umbilical cord. He can also stick out his tongue!',\n",
    "        26: 'Your baby is nearly as long as a zucchini. Her eyebrows and eyelashes are well-defined; plus, she has more hair on her head this week.',\n",
    "        27: 'Your baby is now the size of a cauliflower. At this point, he may be able to distinguish between your voice and your husband''s or partner''s voice.',\n",
    "        28: 'Your baby is the size of a kabocha squash, and she is beginning to open her eyes and blink.',\n",
    "        29: 'Your baby is the size of a large butternut squash. His skin is still wrinkly, but as fat accumulates, he will fill out.',\n",
    "        30: 'Your baby is the size of a large cabbage. She has cycles of sleeping and waking. After 30 to 90 minutes of snoozing, she may give you a kick to let you know she''s awake.',\n",
    "        31: 'Your baby is about as long as a bunch of leeks, and she will now gain as much as a half pound per week until she''s born.',\n",
    "        32: 'Your baby is the size of a Napa cabbage. Because her taste buds are developed, she may acquire a preference for the foods you eat, which she samples when she swallows amniotic fluid.',\n",
    "        33: 'Your baby is the size of a pineapple. Lanugo, the fine hair that covered her entire body and helped keep her warm as she developed, is starting to disappear, but there might still be patches of it on her shoulders and back.',\n",
    "        34: 'Your baby is the size of a cantaloupe. Her bones are fully developed by now, and she''s turning her head, pirouetting, and moving her body from side to side.',\n",
    "        35: 'Your baby is the size of a honeydew melon. In preparation for birth, he is now upside down in your uterus.',\n",
    "        36: 'Your baby is now the size of a head of romaine lettuce, and her wrinkly suit of skin is filling out as she gets plumper.',\n",
    "        37: 'Your baby is as long as stalk of Swiss chard. Because he''s running out of room in your uterus, he mostly stretches and wiggles, instead of delivering big kicks.',\n",
    "        38: 'Your baby is the length of a stalk of rhubarb. Connections are forming in her brain that will help her swallow and even sleep better once she''s born.',\n",
    "        39: 'Your baby now weighs as much as a small pumpkin. At this point, he has shed most of that white creamy substance called vernix and the fine, fur-like hair called lanugo that has covered his skin since the middle of your second trimester.',\n",
    "        40: 'By the time she''s born, your baby may be watermelon-size. You''re expecting to give birth this week, but don''t worry if your baby decides to stick around a little longer. Many first babies are late, and she''ll be worth the wait—we promise!',\n",
    "\n",
    "        }\n",
    "\n",
    "\"You're \" + str(weeksPregnant) + \" weeks pregnant. Hope you're felling well! Did you know that \" + weeks.get(weeksPregnant)\n",
    "\n",
    "\n"
   ]
  },
  {
   "cell_type": "code",
   "execution_count": 18,
   "metadata": {},
   "outputs": [
    {
     "name": "stdout",
     "output_type": "stream",
     "text": [
      "The baby is due in exactly 209 days\n"
     ]
    }
   ],
   "source": [
    "print(\"The baby is due in exactly \" + str((baby_due_date - current_time).days) + \" days, on \" \")"
   ]
  },
  {
   "cell_type": "code",
   "execution_count": 29,
   "metadata": {},
   "outputs": [
    {
     "data": {
      "text/plain": [
       "'July 13th 2020'"
      ]
     },
     "execution_count": 29,
     "metadata": {},
     "output_type": "execute_result"
    }
   ],
   "source": [
    "baby_due_date.strftime(\"%B\") + \" \" + baby_due_date.strftime(\"%d\") + \"th \" + str(baby_due_date.year)"
   ]
  },
  {
   "cell_type": "code",
   "execution_count": null,
   "metadata": {},
   "outputs": [],
   "source": []
  }
 ],
 "metadata": {
  "kernelspec": {
   "display_name": "Python 3",
   "language": "python",
   "name": "python3"
  },
  "language_info": {
   "codemirror_mode": {
    "name": "ipython",
    "version": 3
   },
   "file_extension": ".py",
   "mimetype": "text/x-python",
   "name": "python",
   "nbconvert_exporter": "python",
   "pygments_lexer": "ipython3",
   "version": "3.7.4"
  }
 },
 "nbformat": 4,
 "nbformat_minor": 2
}
