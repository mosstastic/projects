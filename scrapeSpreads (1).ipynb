{
 "cells": [
  {
   "cell_type": "code",
   "execution_count": 13,
   "metadata": {},
   "outputs": [],
   "source": [
    "import re\n",
    "import requests\n",
    "import pandas as pd\n",
    "from datetime import datetime, timedelta, date"
   ]
  },
  {
   "cell_type": "code",
   "execution_count": 14,
   "metadata": {},
   "outputs": [],
   "source": [
    "start_of_season = date(2020,8,31)\n",
    "days = abs(start_of_season-date.today()).days\n",
    "week = days//7"
   ]
  },
  {
   "cell_type": "code",
   "execution_count": 15,
   "metadata": {},
   "outputs": [],
   "source": [
    "nflweek = str(week) + 'W-HCAP'\n",
    "url = 'https://www.bovada.lv/services/sports/event/v2/events/A/description/football/nfl'\n",
    "r = requests.get(url)\n",
    "j = r.json()  \n"
   ]
  },
  {
   "cell_type": "code",
   "execution_count": 16,
   "metadata": {},
   "outputs": [],
   "source": [
    "results_list = j[0]\n",
    "\n"
   ]
  },
  {
   "cell_type": "code",
   "execution_count": 17,
   "metadata": {},
   "outputs": [],
   "source": [
    "## defines how many games are being played this week\n",
    "## we do this by grabbing the output from the url listed above which is a json\n",
    "## and then we ask it to return specific data from an element called 'events'\n",
    "\n",
    "games_list = results_list['events']\n",
    "\n",
    "\n",
    "## we then loop through the data in the 'events' node and find any data where \n",
    "## the 'key' within the 'markets' node within the 'displaygroup' node has a value of '2W-HCAP'\n",
    "## that means it's a \"2 way handicap\" or a spread. If we didn't have this our spreads below\n",
    "## would return a ton of different stuff like over/unders, prop bets, etc.\n",
    "\n",
    "num_of_games = 0\n",
    "for i in range(len(games_list)):\n",
    "    try:\n",
    "        if (games_list[i]['displayGroups'][0]['markets'][1]['key'] == '2W-HCAP'): # and games_list[i]['notes'] == ''):\n",
    "            num_of_games = num_of_games + 1\n",
    "    except:\n",
    "        continue\n",
    "               \n",
    "        \n",
    "#num_of_games = 16\n"
   ]
  },
  {
   "cell_type": "code",
   "execution_count": 18,
   "metadata": {},
   "outputs": [],
   "source": [
    "## loops through the json to pull out the spreads\n",
    "\n",
    "defaults = {}\n",
    "defaultfinal = []\n",
    "\n",
    "for i in range(int(num_of_games)):\n",
    "    try:\n",
    "        nfl_game = games_list[i]\n",
    "        team_a = nfl_game['displayGroups'][0]['markets'][1]['outcomes'][0]['description']\n",
    "        team_b = nfl_game['displayGroups'][0]['markets'][1]['outcomes'][1]['description']\n",
    "        team_a_loc = nfl_game['displayGroups'][0]['markets'][1]['outcomes'][0]['type']\n",
    "        team_a_spread = nfl_game['displayGroups'][0]['markets'][1]['outcomes'][0]['price']['handicap']\n",
    "        team_b_spread = nfl_game['displayGroups'][0]['markets'][1]['outcomes'][1]['price']['handicap']\n",
    "        defaults.update (homeTeam = team_b, homeSpread = team_b_spread, awayTeam = team_a, awaySpread = team_a_spread)\n",
    "        defaultfinal.append(dict(defaults))\n",
    "    except:\n",
    "        print('something dumb happened')\n",
    "    \n",
    "    "
   ]
  },
  {
   "cell_type": "code",
   "execution_count": 19,
   "metadata": {},
   "outputs": [],
   "source": [
    "## converts the dictionary to a dataframe\n",
    "def spreads():\n",
    "    df = pd.DataFrame(defaultfinal)\n",
    "    return df\n",
    "    "
   ]
  },
  {
   "cell_type": "code",
   "execution_count": 20,
   "metadata": {},
   "outputs": [
    {
     "data": {
      "text/html": [
       "<div>\n",
       "<style scoped>\n",
       "    .dataframe tbody tr th:only-of-type {\n",
       "        vertical-align: middle;\n",
       "    }\n",
       "\n",
       "    .dataframe tbody tr th {\n",
       "        vertical-align: top;\n",
       "    }\n",
       "\n",
       "    .dataframe thead th {\n",
       "        text-align: right;\n",
       "    }\n",
       "</style>\n",
       "<table border=\"1\" class=\"dataframe\">\n",
       "  <thead>\n",
       "    <tr style=\"text-align: right;\">\n",
       "      <th></th>\n",
       "      <th>homeTeam</th>\n",
       "      <th>homeSpread</th>\n",
       "      <th>awayTeam</th>\n",
       "      <th>awaySpread</th>\n",
       "    </tr>\n",
       "  </thead>\n",
       "  <tbody>\n",
       "    <tr>\n",
       "      <td>0</td>\n",
       "      <td>Kansas City Chiefs</td>\n",
       "      <td>-11.5</td>\n",
       "      <td>New England Patriots</td>\n",
       "      <td>11.5</td>\n",
       "    </tr>\n",
       "    <tr>\n",
       "      <td>1</td>\n",
       "      <td>Green Bay Packers</td>\n",
       "      <td>-6.0</td>\n",
       "      <td>Atlanta Falcons</td>\n",
       "      <td>6.0</td>\n",
       "    </tr>\n",
       "    <tr>\n",
       "      <td>2</td>\n",
       "      <td>Chicago Bears</td>\n",
       "      <td>6.0</td>\n",
       "      <td>Tampa Bay Buccaneers</td>\n",
       "      <td>-6.0</td>\n",
       "    </tr>\n",
       "    <tr>\n",
       "      <td>3</td>\n",
       "      <td>New York Jets</td>\n",
       "      <td>7.0</td>\n",
       "      <td>Arizona Cardinals</td>\n",
       "      <td>-7.0</td>\n",
       "    </tr>\n",
       "    <tr>\n",
       "      <td>4</td>\n",
       "      <td>Baltimore Ravens</td>\n",
       "      <td>-13.5</td>\n",
       "      <td>Cincinnati Bengals</td>\n",
       "      <td>13.5</td>\n",
       "    </tr>\n",
       "    <tr>\n",
       "      <td>5</td>\n",
       "      <td>Houston Texans</td>\n",
       "      <td>-6.5</td>\n",
       "      <td>Jacksonville Jaguars</td>\n",
       "      <td>6.5</td>\n",
       "    </tr>\n",
       "    <tr>\n",
       "      <td>6</td>\n",
       "      <td>Washington Football Team</td>\n",
       "      <td>9.0</td>\n",
       "      <td>Los Angeles Rams</td>\n",
       "      <td>-9.0</td>\n",
       "    </tr>\n",
       "    <tr>\n",
       "      <td>7</td>\n",
       "      <td>Pittsburgh Steelers</td>\n",
       "      <td>-7.5</td>\n",
       "      <td>Philadelphia Eagles</td>\n",
       "      <td>7.5</td>\n",
       "    </tr>\n",
       "    <tr>\n",
       "      <td>8</td>\n",
       "      <td>Cleveland Browns</td>\n",
       "      <td>3.0</td>\n",
       "      <td>Indianapolis Colts</td>\n",
       "      <td>-3.0</td>\n",
       "    </tr>\n",
       "    <tr>\n",
       "      <td>9</td>\n",
       "      <td>Dallas Cowboys</td>\n",
       "      <td>-9.5</td>\n",
       "      <td>New York Giants</td>\n",
       "      <td>9.5</td>\n",
       "    </tr>\n",
       "    <tr>\n",
       "      <td>10</td>\n",
       "      <td>Seattle Seahawks</td>\n",
       "      <td>-7.0</td>\n",
       "      <td>Minnesota Vikings</td>\n",
       "      <td>7.0</td>\n",
       "    </tr>\n",
       "  </tbody>\n",
       "</table>\n",
       "</div>"
      ],
      "text/plain": [
       "                    homeTeam homeSpread              awayTeam awaySpread\n",
       "0         Kansas City Chiefs      -11.5  New England Patriots       11.5\n",
       "1          Green Bay Packers       -6.0       Atlanta Falcons        6.0\n",
       "2              Chicago Bears        6.0  Tampa Bay Buccaneers       -6.0\n",
       "3              New York Jets        7.0     Arizona Cardinals       -7.0\n",
       "4           Baltimore Ravens      -13.5    Cincinnati Bengals       13.5\n",
       "5             Houston Texans       -6.5  Jacksonville Jaguars        6.5\n",
       "6   Washington Football Team        9.0      Los Angeles Rams       -9.0\n",
       "7        Pittsburgh Steelers       -7.5   Philadelphia Eagles        7.5\n",
       "8           Cleveland Browns        3.0    Indianapolis Colts       -3.0\n",
       "9             Dallas Cowboys       -9.5       New York Giants        9.5\n",
       "10          Seattle Seahawks       -7.0     Minnesota Vikings        7.0"
      ]
     },
     "execution_count": 20,
     "metadata": {},
     "output_type": "execute_result"
    }
   ],
   "source": [
    "spreads()"
   ]
  },
  {
   "cell_type": "code",
   "execution_count": null,
   "metadata": {},
   "outputs": [],
   "source": []
  }
 ],
 "metadata": {
  "kernelspec": {
   "display_name": "Python 3",
   "language": "python",
   "name": "python3"
  },
  "language_info": {
   "codemirror_mode": {
    "name": "ipython",
    "version": 3
   },
   "file_extension": ".py",
   "mimetype": "text/x-python",
   "name": "python",
   "nbconvert_exporter": "python",
   "pygments_lexer": "ipython3",
   "version": "3.7.4"
  }
 },
 "nbformat": 4,
 "nbformat_minor": 2
}
